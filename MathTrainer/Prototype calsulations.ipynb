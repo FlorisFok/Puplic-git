{
 "cells": [
  {
   "cell_type": "code",
   "execution_count": 31,
   "metadata": {},
   "outputs": [],
   "source": [
    "import random\n",
    "import time\n",
    "\n",
    "\n",
    "def difficult_level(num,num2, level):\n",
    "    return num*(10**level), num2*(10**level)\n",
    "\n",
    "\n",
    "def sumnum(num, num2):\n",
    "    print(f\"What is: {num} + {num2}\")\n",
    "    time.sleep(5)\n",
    "    print(str(num+num2))\n",
    "\n",
    "    \n",
    "def percentage(num, num2):\n",
    "    if num2 > 100:\n",
    "        while num2 > 100:\n",
    "            num2 = num2/10\n",
    "    print(f\"What is: {num} x %{num2}\")\n",
    "    time.sleep(8)\n",
    "    print(str(num*(num2*0.01)))\n",
    "\n",
    "    \n",
    "def division(num, num2):\n",
    "    if num > num2:\n",
    "        print(f\"What is: {num} / {num2/10}\")\n",
    "        time.sleep(8)\n",
    "        print(str(num/(num2/10)))\n",
    "    else:\n",
    "        print(f\"What is: {num2} / {num/10}\")\n",
    "        time.sleep(8)\n",
    "        print(str(num2/(num/10)))\n",
    "\n",
    "        \n",
    "def main():\n",
    "    while True:\n",
    "        num = random.randint(1,50)\n",
    "        num2 = random.randint(1,50)\n",
    "        difficult_level(num,num2, random.randint(0,4))\n",
    "        \n",
    "        option = random.randint(0,2)\n",
    "        if option == 0:\n",
    "            sumnum(num, num2)\n",
    "        elif option == 1:\n",
    "            percentage(num, num2)\n",
    "        elif option == 2:\n",
    "            division(num, num2)\n",
    "        \n",
    "        \n",
    "        anwser = input(\"Quit? (y/n)\")\n",
    "        if anwser == 'y':\n",
    "            break"
   ]
  },
  {
   "cell_type": "code",
   "execution_count": 32,
   "metadata": {},
   "outputs": [
    {
     "name": "stdout",
     "output_type": "stream",
     "text": [
      "What is: 47 / 3.8\n",
      "12.368421052631579\n",
      "Quit? (y/n)n\n",
      "What is: 16 / 1.0\n",
      "16.0\n",
      "Quit? (y/n)n\n",
      "What is: 49 / 4.6\n",
      "10.652173913043478\n",
      "Quit? (y/n)n\n",
      "What is: 8 x %31\n",
      "2.48\n",
      "Quit? (y/n)y\n"
     ]
    }
   ],
   "source": [
    "main()"
   ]
  },
  {
   "cell_type": "code",
   "execution_count": 30,
   "metadata": {},
   "outputs": [
    {
     "data": {
      "text/plain": [
       "0"
      ]
     },
     "execution_count": 30,
     "metadata": {},
     "output_type": "execute_result"
    }
   ],
   "source": [
    "random.randint(0,4)"
   ]
  },
  {
   "cell_type": "code",
   "execution_count": 67,
   "metadata": {},
   "outputs": [],
   "source": [
    "\n",
    "\n",
    "class Calculation:\n",
    "    #MODULES\n",
    "    import random\n",
    "    import time\n",
    "    \n",
    "    #LOCAL VARS\n",
    "    num = random.randint(1,50)\n",
    "    num2 = random.randint(1,50)\n",
    "    \n",
    "    def __init__(self, level, sleep_time):\n",
    "        self.level = level\n",
    "        self.sleep_time = sleep_time\n",
    "\n",
    "\n",
    "    def difficult_level(self):\n",
    "        return self.num*(10**self.level), self.num2*(10**self.level)\n",
    "\n",
    "\n",
    "    def sumnum(self):\n",
    "        num, num2 = self.difficult_level()\n",
    "        print(f\"What is: {num} + {num2}\")\n",
    "        time.sleep(self.sleep_time)\n",
    "        print(str(num+num2))\n",
    "\n",
    "        \n",
    "    def percentage(self):\n",
    "        num, num2 = self.difficult_level()\n",
    "        if num2 > 100:\n",
    "            while num2 > 100:\n",
    "                num2 = num2/10\n",
    "        print(f\"What is: {num} x %{num2}\")\n",
    "        time.sleep(self.sleep_time)\n",
    "        print(str(num*(num2*0.01)))\n",
    "\n",
    "        \n",
    "    def division(self):\n",
    "        num, num2 = self.difficult_level()\n",
    "        if num > num2:\n",
    "            print(f\"What is: {num} / {num2/10}\")\n",
    "            time.sleep(self.sleep_time)\n",
    "            print(str(num/(num2/10)))\n",
    "        else:\n",
    "            print(f\"What is: {num2} / {num/10}\")\n",
    "            time.sleep(self.sleep_time)\n",
    "            print(str(num2/(num/10)))\n",
    "\n",
    "        \n",
    "def main():\n",
    "    while True:\n",
    "        cal  = Calculation(2,8)\n",
    "        option = random.randint(0,2)\n",
    "        \n",
    "        if option == 0:\n",
    "            cal.sumnum()\n",
    "        elif option == 1:\n",
    "            cal.percentage()\n",
    "        elif option == 2:\n",
    "            cal.division()\n",
    "        \n",
    "        anwser = input(\"Quit? (y/n)\")\n",
    "        if anwser == 'y':\n",
    "            break"
   ]
  },
  {
   "cell_type": "code",
   "execution_count": 68,
   "metadata": {},
   "outputs": [
    {
     "name": "stdout",
     "output_type": "stream",
     "text": [
      "What is: 3600 x %28.0\n",
      "1008.0000000000001\n",
      "Quit? (y/n)y\n"
     ]
    }
   ],
   "source": [
    "main()"
   ]
  },
  {
   "cell_type": "markdown",
   "metadata": {},
   "source": [
    "main()"
   ]
  },
  {
   "cell_type": "code",
   "execution_count": 69,
   "metadata": {},
   "outputs": [
    {
     "name": "stdout",
     "output_type": "stream",
     "text": [
      "What is: 3600 + 2800\n",
      "6400\n",
      "Quit? (y/n)n\n",
      "What is: 3600 / 280.0\n",
      "12.857142857142858\n",
      "Quit? (y/n)y\n"
     ]
    }
   ],
   "source": [
    "main()"
   ]
  },
  {
   "cell_type": "code",
   "execution_count": 41,
   "metadata": {},
   "outputs": [],
   "source": [
    "cal"
   ]
  },
  {
   "cell_type": "code",
   "execution_count": null,
   "metadata": {},
   "outputs": [],
   "source": []
  }
 ],
 "metadata": {
  "kernelspec": {
   "display_name": "Python 3",
   "language": "python",
   "name": "python3"
  },
  "language_info": {
   "codemirror_mode": {
    "name": "ipython",
    "version": 3
   },
   "file_extension": ".py",
   "mimetype": "text/x-python",
   "name": "python",
   "nbconvert_exporter": "python",
   "pygments_lexer": "ipython3",
   "version": "3.6.5"
  }
 },
 "nbformat": 4,
 "nbformat_minor": 2
}
